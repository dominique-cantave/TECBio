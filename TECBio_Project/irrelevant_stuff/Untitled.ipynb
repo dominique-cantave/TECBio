{
 "cells": [
  {
   "cell_type": "code",
   "execution_count": 2,
   "metadata": {},
   "outputs": [],
   "source": [
    "import networkx as nx\n",
    "from igraph import *\n",
    "import numpy as np\n",
    "from random import *\n",
    "import matplotlib.pyplot as plt\n",
    "import collections"
   ]
  },
  {
   "cell_type": "code",
   "execution_count": 8,
   "metadata": {},
   "outputs": [],
   "source": [
    "def AGEDEP(age, baserate, mode):\n",
    "    if mode == 0:\n",
    "        agepar = 0.5 # not dependent\n",
    "        \n",
    "    # sigmoid with age 10 arbitrarily chosen as new/old cutoff\n",
    "    else:\n",
    "        agepar = (-1*np.arctan(0.5*(age-10))/np.pi)+0.5  # slight dependence  \n",
    "\n",
    "    # rate relative to base parameter\n",
    "    return agepar*baserate\n",
    "\n",
    "GENS = 100\n",
    "k = 30\n",
    "cat_matrix = np.ndarray(shape=(GENS,k))\n",
    "cat_matrix2 = np.ndarray(shape=(GENS,k))"
   ]
  },
  {
   "cell_type": "code",
   "execution_count": 40,
   "metadata": {},
   "outputs": [],
   "source": [
    "for run in range(k):\n",
    "    # create initial population of 20 genes with random edges\n",
    "    i=20\n",
    "    G = nx.binomial_graph(i, 0.5)\n",
    "    for node in G.nodes():\n",
    "        G.node[node]['age'] = 20\n",
    "\n",
    "    for j in range(GENS):\n",
    "\n",
    "        # adds nodes according to birthrate   \n",
    "        if random() < 0.6:\n",
    "            #randomly attaches it to an existing node\n",
    "            G.add_edge(i,choice(list(G.nodes())))\n",
    "            G.node[i]['age'] = 0\n",
    "            i+= 1\n",
    "\n",
    "        for node in list(G.nodes()):\n",
    "            # increases the age of each node\n",
    "            G.node[node]['age'] += 1\n",
    "            age = G.node[node]['age']\n",
    "\n",
    "            # removes unattached nodes\n",
    "            neighbors = list(G.neighbors(node))\n",
    "            if not neighbors:\n",
    "                G.remove_node(node)\n",
    "                continue\n",
    "\n",
    "            # decides if it dies with total deathrate related to birthrate\n",
    "            if random() < AGEDEP(age, 0.6, 0)/(len(G.nodes())*10):\n",
    "                G.remove_node(node)\n",
    "                continue\n",
    "\n",
    "            # adds edges according to some scheme\n",
    "            if random() < AGEDEP(age, 0.5, 0):\n",
    "\n",
    "                # random attachment\n",
    "                if random() < 0.5:\n",
    "                    G.add_edge(node,choice(list(G.nodes())))\n",
    "\n",
    "                # preferential attachment\n",
    "                else:\n",
    "                    # randomly picks one of the node's neighbors\n",
    "                    nghbr = choice(neighbors)\n",
    "                    # goes through nghbr's own neighbors (excluding the node itself)\n",
    "                    nghbr2 = list(G.neighbors(nghbr))\n",
    "                    nghbr2.remove(node)\n",
    "                    # if the nghbr has other neighbors, randomly assoicate with one\n",
    "                    if nghbr2: \n",
    "                        G.add_edge(node, choice(nghbr2))\n",
    "\n",
    "            # randomly removes an edge from the node\n",
    "#             if el and random() < AGEDEP(age, er, mode)/2:\n",
    "#                 edgs = list(G.edges(node))\n",
    "#                 G.remove_edge(*choice(edgs))\n",
    "\n",
    "        #### adjusts the category measurement matrix with each\n",
    "        # number of connected subgraphs\n",
    "        cat_matrix[j,run]=nx.average_clustering(G)   # averages the local clustering for each node\n",
    "    degree_sequence = sorted([d for n, d in G.degree()], reverse=True)\n",
    "    if run == 0:    \n",
    "        degreeCount = collections.Counter(degree_sequence)\n",
    "    else:\n",
    "        degreeCount += collections.Counter(degree_sequence)\n",
    "    deg2, cnt2 = zip(*degreeCount.items())\n",
    "    ct2 = tuple(c/k for c in cnt2)"
   ]
  },
  {
   "cell_type": "code",
   "execution_count": 16,
   "metadata": {},
   "outputs": [],
   "source": [
    "cat_median1 = np.median(cat_matrix, axis=1)\n",
    "cat_10p1 = np.percentile(cat_matrix,10,axis=1)\n",
    "cat_90p1 = np.percentile(cat_matrix,90,axis=1)"
   ]
  },
  {
   "cell_type": "code",
   "execution_count": 14,
   "metadata": {},
   "outputs": [],
   "source": [
    "cat_median2 = np.median(cat_matrix2, axis=1)\n",
    "cat_10p2 = np.percentile(cat_matrix2,10,axis=1)\n",
    "cat_90p2 = np.percentile(cat_matrix2,90,axis=1)"
   ]
  },
  {
   "cell_type": "code",
   "execution_count": 17,
   "metadata": {},
   "outputs": [
    {
     "data": {
      "text/plain": [
       "<matplotlib.legend.Legend at 0xa1e1d4590>"
      ]
     },
     "execution_count": 17,
     "metadata": {},
     "output_type": "execute_result"
    }
   ],
   "source": [
    "%matplotlib qt\n",
    "x = range(GENS)   # timesteps\n",
    "y = cat_median1   # measurement mean\n",
    "z = cat_median2\n",
    "errorup = cat_90p1\n",
    "errorup2 = cat_90p2# standard deviation\n",
    "errordown = cat_10p1\n",
    "errordown2 = cat_10p2\n",
    "\n",
    "plt.plot(x, y, x,z)\n",
    "plt.fill_between(x, errordown, errorup, alpha=0.5)\n",
    "plt.fill_between(x,errordown2, errorup2, alpha=0.5)\n",
    "plt.title('average clustering coefficient')\n",
    "plt.xlabel('generation')\n",
    "plt.ylabel('average clustering')\n",
    "plt.ylim(0.2,0.8)\n",
    "plt.legend(['with age dependence', 'without age dependence'])"
   ]
  },
  {
   "cell_type": "code",
   "execution_count": 59,
   "metadata": {},
   "outputs": [
    {
     "data": {
      "text/plain": [
       "<matplotlib.legend.Legend at 0x111dab490>"
      ]
     },
     "execution_count": 59,
     "metadata": {},
     "output_type": "execute_result"
    }
   ],
   "source": [
    "%matplotlib qt\n",
    "plt.style.use('seaborn-deep')\n",
    "\n",
    "plt.bar(np.array(deg)-0.2, ct, width=0.4, label='with age dependence')\n",
    "plt.bar(np.array(deg2)+0.2, ct2, width=0.4, label='without age dependence')\n",
    "plt.title('final degree distribution')\n",
    "plt.xlabel('degree')\n",
    "plt.ylabel('nodes')\n",
    "plt.ylim(0,9)\n",
    "plt.xlim(0,45)\n",
    "plt.legend(['with age dependence','without age dependence'])"
   ]
  },
  {
   "cell_type": "code",
   "execution_count": 41,
   "metadata": {},
   "outputs": [
    {
     "data": {
      "text/plain": [
       "(0, 50)"
      ]
     },
     "execution_count": 41,
     "metadata": {},
     "output_type": "execute_result"
    }
   ],
   "source": [
    "#plt.bar(deg, ct, label='with age dependence')\n",
    "plt.bar(deg2, ct2, label='without age dependence')\n",
    "plt.title('final degree distribution')\n",
    "plt.xlabel('degree')\n",
    "plt.ylabel('nodes')\n",
    "plt.ylim(0,9)\n",
    "plt.xlim(0,50)"
   ]
  },
  {
   "cell_type": "code",
   "execution_count": 49,
   "metadata": {},
   "outputs": [
    {
     "data": {
      "text/plain": [
       "tuple"
      ]
     },
     "execution_count": 49,
     "metadata": {},
     "output_type": "execute_result"
    }
   ],
   "source": [
    "type(deg2)"
   ]
  },
  {
   "cell_type": "code",
   "execution_count": null,
   "metadata": {},
   "outputs": [],
   "source": []
  }
 ],
 "metadata": {
  "kernelspec": {
   "display_name": "Python 2",
   "language": "python",
   "name": "python2"
  },
  "language_info": {
   "codemirror_mode": {
    "name": "ipython",
    "version": 2
   },
   "file_extension": ".py",
   "mimetype": "text/x-python",
   "name": "python",
   "nbconvert_exporter": "python",
   "pygments_lexer": "ipython2",
   "version": "2.7.15"
  }
 },
 "nbformat": 4,
 "nbformat_minor": 2
}
